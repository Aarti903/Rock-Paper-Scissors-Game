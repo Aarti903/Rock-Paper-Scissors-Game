{
 "cells": [
  {
   "cell_type": "markdown",
   "id": "adbe765f-9048-445a-9f23-fd6ca51946b8",
   "metadata": {},
   "source": [
    "# ROCK PAPER SCIOSSOR GAME "
   ]
  },
  {
   "cell_type": "code",
   "execution_count": 3,
   "id": "ef74e48f-7e53-4624-9cfd-6e68e69ea325",
   "metadata": {},
   "outputs": [
    {
     "name": "stdout",
     "output_type": "stream",
     "text": [
      "********************************************* 🙏WELCOME TO ROCK PAPER SCIOSSOR GAME 🙏 ********************************************\n"
     ]
    },
    {
     "name": "stdout",
     "output_type": "stream",
     "text": [
      "Enter your Name:  Aarti\n"
     ]
    },
    {
     "name": "stdout",
     "output_type": "stream",
     "text": [
      ">>>>>>>>>>>>>>>>>>>>>>>>>>>>>>>>>>>>>>>>>>>>>>>>>>>🏆 WINNIG RULES 🏆<<<<<<<<<<<<<<<<<<<<<<<<<<<<<<<<<<<<<<<<<<<<<<<<<<<<<<<<<<\n",
      "          1. Paper vs Rock -- Paper\n",
      "          2. Rock vs Scissors -- Rock\n",
      "          4. Scissors Vs Paper -- Scissors \n",
      "          \n",
      "\n",
      "\n",
      "  Choices are:--\n",
      "  1. Paper🗞️\n",
      "  2. Rock 🪨\n",
      "  3. Scissors ✂️\n",
      "        \n"
     ]
    },
    {
     "name": "stdout",
     "output_type": "stream",
     "text": [
      "Enter your choice from Above :  1\n"
     ]
    },
    {
     "name": "stdout",
     "output_type": "stream",
     "text": [
      "\n",
      "The your choice is :  Paper\n",
      "Now it's computer's turn\n",
      "The computer choice is :  Paper\n",
      "It's a Tie\n",
      "\n",
      "------------------------------------------------------- 🎯 Scores 🎯 -----------------------------------------------------\n",
      "Aarti 's Score is :  0\n",
      "Computer's Score is :  0\n",
      "Ties's Score is :  1\n"
     ]
    },
    {
     "name": "stdout",
     "output_type": "stream",
     "text": [
      "Do you play again ?  no\n"
     ]
    },
    {
     "name": "stdout",
     "output_type": "stream",
     "text": [
      "Game is over! \n",
      "Thanks for playing...\n"
     ]
    }
   ],
   "source": [
    "import random\n",
    "\n",
    "print(\"********************************************* 🙏WELCOME TO ROCK PAPER SCIOSSOR GAME 🙏 ********************************************\")\n",
    "\n",
    "User_score = 0\n",
    "Computer_score = 0\n",
    "Ties = 0\n",
    "\n",
    "user = input(\"Enter your Name: \")\n",
    "print('''>>>>>>>>>>>>>>>>>>>>>>>>>>>>>>>>>>>>>>>>>>>>>>>>>>>🏆 WINNIG RULES 🏆<<<<<<<<<<<<<<<<<<<<<<<<<<<<<<<<<<<<<<<<<<<<<<<<<<<<<<<<<<\n",
    "          1. Paper vs Rock -- Paper\n",
    "          2. Rock vs Scissors -- Rock\n",
    "          4. Scissors Vs Paper -- Scissors \n",
    "          ''')\n",
    "print()\n",
    "    \n",
    "while True:\n",
    "  \n",
    "  print (\"\"\"\n",
    "  Choices are:--\n",
    "  1. Paper🗞️\n",
    "  2. Rock 🪨\n",
    "  3. Scissors ✂️\n",
    "        \"\"\")\n",
    "\n",
    "  user_choice = int(input(\"Enter your choice from Above : \"))\n",
    "  print()\n",
    "  while user_choice > 3 or user_choice < 1:\n",
    "    user_choice = int(input(\"Enter your choice from Above: \"))\n",
    "\n",
    "\n",
    "\n",
    "  if user_choice == 1:\n",
    "    user_choice = \"Paper\"\n",
    "  elif user_choice == 2:\n",
    "    user_choice = \"Rock\"\n",
    "  else:\n",
    "    user_choice = \"Scissors\"\n",
    "    \n",
    "  print(\"The your choice is : \",user_choice)\n",
    "  print(\"Now it's computer's turn\")\n",
    "\n",
    "  computer = random.randint(1,3)\n",
    "\n",
    "  if computer == 1:\n",
    "    computer_choice = \"Paper\"\n",
    "  elif computer == 2:\n",
    "    computer_choice = \"Rock\"\n",
    "  else:\n",
    "    computer_choice = \"Scissors\"\n",
    "    \n",
    "  print(\"The computer choice is : \",computer_choice)\n",
    "  \n",
    "\n",
    "  if ((user_choice ==\"Paper\" and computer_choice ==\"Rock\")or (user_choice == \"Rock\" and computer_choice == \"Paper\")):\n",
    "    print(\"Paper win\")\n",
    "    result = \"Paper🗞️\"\n",
    "    \n",
    "  elif((user_choice ==\"Sicssors\" and computer_choice ==\"Rock\")or (user_choice == \"Rock\" and computer_choice == \"Scissors\")):\n",
    "    print(\"Rock Win\")\n",
    "    result = \"Rock🪨\"\n",
    "    \n",
    "  elif(user_choice == computer_choice):\n",
    "    print(\"It's a Tie 😑\")\n",
    "    result = \"Tie\"\n",
    "    \n",
    "  else:\n",
    "    print(\"Scissors win\")\n",
    "    result = \"Scissors ✂️\"\n",
    "    \n",
    "    \n",
    "  \n",
    "  print()\n",
    "\n",
    "  if result == \"Tie\":\n",
    "     Ties += 1\n",
    "    \n",
    "  \n",
    "  elif result == user_choice:\n",
    "      print(\"You win\")\n",
    "      print(\"congrcongratulation👌🎊\")  \n",
    "      User_score += 1\n",
    "  \n",
    "  else:\n",
    "    print(\"🤖 Computer Wins\")\n",
    "    Computer_score += 1\n",
    "\n",
    "  print(\"------------------------------------------------------- 🎯 Scores 🎯 -----------------------------------------------------\")\n",
    "  \n",
    "  print(user,\"'s Score is : \",User_score)\n",
    "  print(\"Computer's Score is : \",Computer_score)\n",
    "  print(\"Ties's Score is : \",Ties)\n",
    "  \n",
    "  repeat =  input(\"Do you play again ? \")\n",
    "  if repeat == \"No\" or repeat == \"no\":\n",
    "    print(\"Game is over! \")\n",
    "    print(\"🙏🏻Thanks for playing...\")\n",
    "    break\n",
    "    "
   ]
  },
  {
   "cell_type": "code",
   "execution_count": null,
   "id": "60b10fd9-9927-411c-ba3a-4e2a986c759b",
   "metadata": {},
   "outputs": [],
   "source": []
  }
 ],
 "metadata": {
  "kernelspec": {
   "display_name": "Python 3 (ipykernel)",
   "language": "python",
   "name": "python3"
  },
  "language_info": {
   "codemirror_mode": {
    "name": "ipython",
    "version": 3
   },
   "file_extension": ".py",
   "mimetype": "text/x-python",
   "name": "python",
   "nbconvert_exporter": "python",
   "pygments_lexer": "ipython3",
   "version": "3.12.4"
  }
 },
 "nbformat": 4,
 "nbformat_minor": 5
}
